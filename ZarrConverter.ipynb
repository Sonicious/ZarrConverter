{
 "cells": [
  {
   "cell_type": "code",
   "execution_count": null,
   "metadata": {},
   "outputs": [],
   "source": [
    "from dask.distributed import Client\n",
    "client = Client(n_workers=4, threads_per_worker=4, memory_limit='4GB')\n",
    "# link to dashboard\n",
    "print(client.dashboard_link)\n",
    "\n",
    "import xarray as xr\n",
    "import zarr\n",
    "import os\n",
    "import glob"
   ]
  },
  {
   "cell_type": "code",
   "execution_count": null,
   "metadata": {},
   "outputs": [],
   "source": [
    "netcdf_dir = r\"path/to/netcdf\"\n",
    "zarr_dir = r\"/path/to/zarr.zarr\""
   ]
  },
  {
   "cell_type": "code",
   "execution_count": null,
   "metadata": {},
   "outputs": [],
   "source": [
    "filelist = glob.glob(os.path.join(netcdf_dir,\"*.nc\"))\n",
    "ds = xr.open_mfdataset(filelist[1:2], combine='by_coords',\n",
    "                       chunks={'time': 1, 'latitude' : 1080, 'longitude': 1080},\n",
    "                       parallel=True)"
   ]
  },
  {
   "cell_type": "code",
   "execution_count": null,
   "metadata": {},
   "outputs": [],
   "source": [
    "encoding = {vname: {\n",
    "    'compressor': zarr.Blosc(cname='zstd', clevel=5),\n",
    "    } for vname in ds.data_vars}\n",
    "ds.attrs['reprocessing'] = \"rechunked and compressed with zarr using xarray 02/2024\"\n",
    "\n",
    "ds.to_zarr(zarr_dir, encoding=encoding, consolidated=True, mode='w', compute=True)"
   ]
  },
  {
   "cell_type": "code",
   "execution_count": null,
   "metadata": {},
   "outputs": [],
   "source": [
    "client.close()"
   ]
  }
 ],
 "metadata": {
  "kernelspec": {
   "display_name": "ZarrConverter Kernel",
   "language": "python",
   "name": "zarrconverter"
  },
  "language_info": {
   "codemirror_mode": {
    "name": "ipython",
    "version": 3
   },
   "file_extension": ".py",
   "mimetype": "text/x-python",
   "name": "python",
   "nbconvert_exporter": "python",
   "pygments_lexer": "ipython3",
   "version": "3.12.1"
  }
 },
 "nbformat": 4,
 "nbformat_minor": 2
}
