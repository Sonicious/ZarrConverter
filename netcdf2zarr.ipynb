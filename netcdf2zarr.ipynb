{
 "cells": [
  {
   "cell_type": "code",
   "execution_count": null,
   "metadata": {},
   "outputs": [],
   "source": [
    "from dask.distributed import Client\n",
    "client = Client(n_workers=4, threads_per_worker=4, memory_limit='4GB')\n",
    "# link to dashboard\n",
    "print(client.dashboard_link)\n",
    "\n",
    "import xarray as xr\n",
    "import zarr\n",
    "import numpy as np\n",
    "import os\n",
    "import glob"
   ]
  },
  {
   "cell_type": "code",
   "execution_count": null,
   "metadata": {},
   "outputs": [],
   "source": [
    "netcdf_dir = r'path/to/data/*.nc'\n",
    "zarr_dir = r'path/to/data.zarr'"
   ]
  },
  {
   "cell_type": "code",
   "execution_count": null,
   "metadata": {},
   "outputs": [],
   "source": [
    "filelist = glob.glob(os.path.join(netcdf_dir,\"*.nc\"))\n",
    "# parallel = True is problematic\n",
    "ds = xr.open_mfdataset(filelist, combine='by_coords',\n",
    "                       chunks={'latitude' : 720, 'longitude': 1440})"
   ]
  },
  {
   "cell_type": "code",
   "execution_count": null,
   "metadata": {},
   "outputs": [],
   "source": [
    "encoding = {vname: {\n",
    "    'compressor': zarr.Blosc(cname='zstd', clevel=5),\n",
    "    } for vname in ds.data_vars}\n",
    "ds.attrs['history'] = 'converted to zarr by Martin Reinhardt, RSC4Earth, University of Leipzig'"
   ]
  },
  {
   "cell_type": "code",
   "execution_count": null,
   "metadata": {},
   "outputs": [],
   "source": [
    "# Chunking and _FillValue here\n",
    "ds['var'] = ds['var'].chunk(chunks={'time' : 100, 'lat' : 720, 'lon': 1440})\n",
    "ds['var'] = ds['var'].attrs['_FillValue'] = np.nan"
   ]
  },
  {
   "cell_type": "code",
   "execution_count": null,
   "metadata": {},
   "outputs": [],
   "source": [
    "ds.to_zarr(zarr_dir, encoding=encoding, consolidated=True, mode='w', compute=True)"
   ]
  },
  {
   "cell_type": "code",
   "execution_count": null,
   "metadata": {},
   "outputs": [],
   "source": [
    "client.close()"
   ]
  }
 ],
 "metadata": {
  "kernelspec": {
   "display_name": "ZarrConverter Kernel",
   "language": "python",
   "name": "zarrconverter"
  },
  "language_info": {
   "codemirror_mode": {
    "name": "ipython",
    "version": 3
   },
   "file_extension": ".py",
   "mimetype": "text/x-python",
   "name": "python",
   "nbconvert_exporter": "python",
   "pygments_lexer": "ipython3",
   "version": "3.12.1"
  }
 },
 "nbformat": 4,
 "nbformat_minor": 2
}
