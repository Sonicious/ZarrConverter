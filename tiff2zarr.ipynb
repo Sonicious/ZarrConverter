{
 "cells": [
  {
   "cell_type": "code",
   "execution_count": null,
   "metadata": {},
   "outputs": [],
   "source": [
    "import xarray as xr\n",
    "import numpy as np\n",
    "import rioxarray\n",
    "import zarr\n",
    "import os\n",
    "import glob\n",
    "import datetime\n",
    "import warnings\n",
    "\n",
    "warnings.filterwarnings(\"ignore\", category=UserWarning)\n",
    "\n",
    "from dask.distributed import Client\n",
    "client = Client(memory_limit='4GB')\n",
    "# link to dashboard\n",
    "print(client.dashboard_link)"
   ]
  },
  {
   "cell_type": "code",
   "execution_count": null,
   "metadata": {},
   "outputs": [],
   "source": [
    "# Set the directory where the data is stored\n",
    "tiff_dir = \"D:\\\\GW_Data\\\\GIMMS_LAI4g_AVHRR_MODIS_consolidated_1982_2020\"\n",
    "zarr_dir = \"D:\\\\GW_Data\\\\GIMMS_LAI4g_AVHRR_MODIS_consolidated_1982_2020.zarr\"\n",
    "fill_value_old = 65535 # fill value in the original data from README\n",
    "fill_value_new = np.nan\n",
    "\n",
    "def CubeFile(file):\n",
    "    # extract date from filename\n",
    "    date = os.path.basename(file).split(\"_\")[-1]\n",
    "    date = date.split(\".\")[0]\n",
    "    year = date[0:4]\n",
    "    month = date[4:6]\n",
    "    halfmonth = date[6:8]\n",
    "    day = 1 if halfmonth == \"01\" else 16\n",
    "    cube = xr.open_dataarray(file, engine=\"rasterio\", chunks={\"y\":512, \"x\":512})\n",
    "    cube = cube.where(cube != fill_value_old, fill_value_new)\n",
    "    dt = np.datetime64(datetime.datetime(int(year), int(month), int(day)))\n",
    "    cube = cube.assign_coords({\"time\":dt})\n",
    "    cube = cube.expand_dims(\"time\")\n",
    "    return cube"
   ]
  },
  {
   "cell_type": "code",
   "execution_count": null,
   "metadata": {},
   "outputs": [],
   "source": [
    "# Create the new dataset\n",
    "files = glob.glob(tiff_dir + \"/*.tif\")\n",
    "files = files[0:10]\n",
    "cube = xr.concat([CubeFile(file) for file in files], dim=\"time\")\n",
    "cube = cube.rename({\"x\":\"lon\", \"y\":\"lat\"})\n",
    "ds = cube.to_dataset(dim=\"band\")\n",
    "ds = ds.rename_vars({1:\"LAI\", 2:\"QC\"})"
   ]
  },
  {
   "cell_type": "code",
   "execution_count": null,
   "metadata": {},
   "outputs": [],
   "source": [
    "# set chunking\n",
    "ds[\"LAI\"] = ds[\"LAI\"].chunk({\"time\":1, \"y\":512, \"x\":512})\n",
    "ds[\"QC\"] = ds[\"QC\"].chunk({\"time\":1, \"y\":512, \"x\":512})\n",
    "\n",
    "lai_attrs = {\n",
    "    \"long_name\":\"Leaf Area Index\",\n",
    "    \"units\":\"m2/m2\",\n",
    "    \"_FillValue\":fill_value_new,\n",
    "    \"ValidRange\":[0, 7000],\n",
    "}\n",
    "qc_attrs = {\n",
    "    \"long_name\":\"Quality Control\",\n",
    "    \"First digit: consolidation method\":[0, 1, 2, 3, 4, 5],\n",
    "    \"Second digit: quality\":[0, 1, 2],\n",
    "    \"_FillValue\":fill_value_new,\n",
    "}\n",
    "ds[\"LAI\"].attrs = lai_attrs\n",
    "ds[\"QC\"].attrs = qc_attrs\n",
    "ds.attrs = {\n",
    "    \"title\":\"GIMMS LAI4g AVHRR MODIS consolidated\",\n",
    "    \"history\":\"converted to zarr by Martin Reinhardt, RSC4Earth, University of Leipzig\",\n",
    "    \"source\":\"https://zenodo.org/records/8281930\",\n",
    "    \"README for QC\":\"https://zenodo.org/records/8281930/files/Readme_for_GIMMS_LAI4g_Product_updated_0825.pdf\"\n",
    "}"
   ]
  },
  {
   "cell_type": "code",
   "execution_count": null,
   "metadata": {},
   "outputs": [],
   "source": [
    "# Cell for additional changes"
   ]
  },
  {
   "cell_type": "code",
   "execution_count": null,
   "metadata": {},
   "outputs": [],
   "source": [
    "compressor = zarr.Blosc(cname=\"zstd\", clevel=3, shuffle=2)\n",
    "encoding = {vname: {\n",
    "    'compressor': compressor,\n",
    "    } for vname in ds.data_vars}\n",
    "\n",
    "# ds.to_dataarray().to_zarr(zarr_dir, mode=\"w\", consolidated=True, compute=True)\n",
    "ds.to_zarr(zarr_dir, mode=\"w\", consolidated=True, compute=True, encoding=encoding)"
   ]
  },
  {
   "cell_type": "code",
   "execution_count": null,
   "metadata": {},
   "outputs": [],
   "source": [
    "Client.close(client)"
   ]
  }
 ],
 "metadata": {
  "kernelspec": {
   "display_name": "ZarrConverter Kernel",
   "language": "python",
   "name": "zarrconverter"
  },
  "language_info": {
   "codemirror_mode": {
    "name": "ipython",
    "version": 3
   },
   "file_extension": ".py",
   "mimetype": "text/x-python",
   "name": "python",
   "nbconvert_exporter": "python",
   "pygments_lexer": "ipython3",
   "version": "3.12.1"
  }
 },
 "nbformat": 4,
 "nbformat_minor": 2
}
